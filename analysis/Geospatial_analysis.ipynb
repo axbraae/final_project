{
 "cells": [
  {
   "cell_type": "markdown",
   "source": [
    "# Geospatial analysis"
   ],
   "metadata": {}
  },
  {
   "cell_type": "code",
   "execution_count": null,
   "source": [
    "import pandas as pd\n",
    "import numpy as np\n",
    "import folium\n",
    "import cartopy\n",
    "import cartopy.crs as ccrs"
   ],
   "outputs": [],
   "metadata": {}
  },
  {
   "cell_type": "code",
   "execution_count": null,
   "source": [
    "import seaborn as sns\n",
    "from matplotlib import pyplot as plt"
   ],
   "outputs": [],
   "metadata": {}
  },
  {
   "cell_type": "code",
   "execution_count": null,
   "source": [
    "flights_all = pd.read_csv('../data/clean_data/flights_data.csv', index_col=0)\n",
    "ewr_flights = flights_all.loc[(flights_all['origin'] == 'EWR')].copy()"
   ],
   "outputs": [],
   "metadata": {}
  },
  {
   "cell_type": "code",
   "execution_count": null,
   "source": [
    "ewr_flights.isna().sum()"
   ],
   "outputs": [],
   "metadata": {}
  },
  {
   "cell_type": "markdown",
   "source": [
    "# Format ewr_flights for geospatial plotting \n",
    "Need to summarise the data per destination airport so that it can be plotted on a map.\n",
    "\n",
    "88 different destination airports.\n",
    "\n",
    "Summary columns \n",
    "- percentage delayed flights per destination airport sized by total number of flights?\n",
    "- percentage delayed flights per destination airport coloured/sized by delay time?\n",
    "- percentage delayed flights selecting top 5 delayed airlines on the route?\n"
   ],
   "metadata": {}
  },
  {
   "cell_type": "code",
   "execution_count": null,
   "source": [
    "ewr_flights.head()"
   ],
   "outputs": [],
   "metadata": {}
  },
  {
   "cell_type": "code",
   "execution_count": null,
   "source": [
    "ewr_flights.columns"
   ],
   "outputs": [],
   "metadata": {}
  },
  {
   "cell_type": "code",
   "execution_count": null,
   "source": [
    "ewr_flights.groupby('flight')['dep_delay'].\\\n",
    "    agg('mean').sort_values(ascending = False).reset_index(name='mean_dep_delay')"
   ],
   "outputs": [],
   "metadata": {}
  },
  {
   "cell_type": "code",
   "execution_count": null,
   "source": [
    "ewr_geo = ewr_flights.loc[:, ['ori_airport', 'ori_lat', 'ori_lon', \n",
    "'ori_alt','dest_airport', 'dest_lat', 'dest_lon', 'carrier_name', 'dep_delay', \n",
    "'dep_delay_true', 'air_time', 'distance', 'hour', 'wind_speed', 'visib']].copy()"
   ],
   "outputs": [],
   "metadata": {}
  },
  {
   "cell_type": "code",
   "execution_count": null,
   "source": [
    "ewr_geo.groupby('dest_airport')['dep_delay'].\\\n",
    "    agg('mean').sort_values(ascending = False).reset_index(name='mean_dep_delay')"
   ],
   "outputs": [],
   "metadata": {}
  },
  {
   "cell_type": "code",
   "execution_count": null,
   "source": [
    "ewr_geo.groupby(['dest_airport', 'carrier_name'])['dep_delay'].\\\n",
    "    agg('mean').sort_values(ascending = False).reset_index(name='mean_dep_delay_per_carrier')"
   ],
   "outputs": [],
   "metadata": {}
  },
  {
   "cell_type": "code",
   "execution_count": null,
   "source": [
    "ewr_geo.groupby('dest_airport')['dep_delay'].\\\n",
    "    agg('mean').sort_values(ascending = False).reset_index(name='mean_dep_delay')\n",
    "\n",
    "ewr_geo.loc[:, 'mean_dep_delay_per_dest'] = \\\n",
    "    ewr_geo.groupby('dest_airport')['dep_delay'].transform('mean')"
   ],
   "outputs": [],
   "metadata": {}
  },
  {
   "cell_type": "code",
   "execution_count": null,
   "source": [],
   "outputs": [],
   "metadata": {}
  },
  {
   "cell_type": "code",
   "execution_count": null,
   "source": [
    "def percent_delay(df, col):\n",
    "    df.loc[:, 'dep_delay_per_'+ col] = df.groupby([col]).dep_delay_true.transform('sum')\n",
    "    df.loc[:, 'total_flights_per_' + col] = df.groupby([col]).dep_delay.transform('count')\n",
    "    df.loc[:, 'percent_delay_per_' + col] = (df['dep_delay_per_'+ col] / df['total_flights_per_' + col]) * 100"
   ],
   "outputs": [],
   "metadata": {}
  },
  {
   "cell_type": "code",
   "execution_count": null,
   "source": [
    "percent_delay(ewr_geo)"
   ],
   "outputs": [],
   "metadata": {}
  },
  {
   "cell_type": "code",
   "execution_count": null,
   "source": [
    "ewr_unique_dest = ewr_geo.drop_duplicates(['dest_airport', 'mean_dep_delay_per_dest'])"
   ],
   "outputs": [],
   "metadata": {}
  },
  {
   "cell_type": "code",
   "execution_count": null,
   "source": [
    "ewr_unique_dest = ewr_unique_dest.loc[:, ['ori_airport', 'ori_lat', 'ori_lon',\n",
    "'dest_airport', 'dest_lat', 'dest_lon', 'mean_dep_delay_per_dest']].copy()"
   ],
   "outputs": [],
   "metadata": {}
  },
  {
   "cell_type": "code",
   "execution_count": null,
   "source": [
    "ewr_unique_dest.dropna(inplace = True)"
   ],
   "outputs": [],
   "metadata": {}
  },
  {
   "cell_type": "code",
   "execution_count": null,
   "source": [
    "ewr_unique_dest.head()"
   ],
   "outputs": [],
   "metadata": {}
  },
  {
   "cell_type": "code",
   "execution_count": null,
   "source": [
    "ewr_unique_dest.shape"
   ],
   "outputs": [],
   "metadata": {}
  },
  {
   "cell_type": "markdown",
   "source": [
    "# ready to plot ori airport to dest airport\n",
    "Try to colour on mean_dep_delay_per_dest"
   ],
   "metadata": {}
  },
  {
   "cell_type": "code",
   "execution_count": null,
   "source": [
    "# set figure print outs in notebook\n",
    "plt.rcParams['figure.figsize'] = [5, 3]\n",
    "plt.rcParams['figure.dpi'] = 120\n",
    "plt.rcParams['font.size'] = 10"
   ],
   "outputs": [],
   "metadata": {}
  },
  {
   "cell_type": "code",
   "execution_count": null,
   "source": [
    "# background map\n",
    "extent = [-150, -40, 5, 70]\n",
    "ax = plt.axes(projection=ccrs.Mercator())\n",
    "ax.coastlines()"
   ],
   "outputs": [],
   "metadata": {}
  },
  {
   "cell_type": "code",
   "execution_count": null,
   "source": [
    "def main():\n",
    "    fig = plt.figure(figsize=(10, 5))\n",
    "    ax = fig.add_subplot(1, 1, 1, projection=ccrs.Robinson())\n",
    "\n",
    "    # make the map global rather than have it zoom in to\n",
    "    # the extents of any plotted data\n",
    "    ax.set_global()\n",
    "\n",
    "    ax.stock_img()\n",
    "    ax.coastlines()\n",
    "\n",
    "    ax.plot(-0.08, 51.53, 'o', transform=ccrs.PlateCarree())\n",
    "\n",
    "    plt.show()"
   ],
   "outputs": [],
   "metadata": {}
  },
  {
   "cell_type": "code",
   "execution_count": null,
   "source": [
    "if __name__ == '__main__':\n",
    "    main()"
   ],
   "outputs": [],
   "metadata": {}
  },
  {
   "cell_type": "code",
   "execution_count": null,
   "source": [
    "import geopandas as gpd\n",
    "import plotly.graph_objects as go"
   ],
   "outputs": [],
   "metadata": {}
  },
  {
   "cell_type": "code",
   "execution_count": null,
   "source": [
    "ewr_unique_dest.head()"
   ],
   "outputs": [],
   "metadata": {}
  },
  {
   "cell_type": "markdown",
   "source": [
    "fig = go.Figure()\n",
    "\n",
    "fig.add_trace(go.Scattergeo(\n",
    "                        lat = [40.692501, 28.429399],\n",
    "                        lon = [-74.168701, -81.308998],\n",
    "                        mode = 'lines',\n",
    "                        line = dict(width=1, color='blue')\n",
    "                        ))\n",
    "\n",
    "fig.update_layout(title_text = 'Connection Map Depicting Flights from Newark',\n",
    "                  height=700, width=900,\n",
    "                  margin={\"t\":0,\"b\":0,\"l\":0, \"r\":0, \"pad\":0},\n",
    "                  showlegend=False)\n",
    "\n",
    "fig.show()"
   ],
   "metadata": {}
  },
  {
   "cell_type": "markdown",
   "source": [
    "fig = go.Figure()\n",
    "\n",
    "ori_to_dest = zip(ewr_unique_dest['ori_lat'], ewr_unique_dest['dest_lat'],\n",
    "                     ewr_unique_dest['ori_lon'], ewr_unique_dest['dest_lon'],\n",
    "                     ewr_unique_dest['mean_dep_delay_per_dest'])\n",
    "\n",
    "## Loop through each flight entry\n",
    "for ori_lat, dest_lat, ori_lon, dest_lon, mean_dep_delay in ori_to_dest:\n",
    "    fig.add_trace(go.Scattergeo(\n",
    "                        lat = [ori_lat, dest_lat],\n",
    "                        lon = [ori_lon, dest_lon],\n",
    "                        mode = 'lines'\n",
    "                        ))\n",
    "\n",
    "fig.update_layout(title_text = 'Connection Map Depicting Flights from Newark',\n",
    "                  height=700, width=900,\n",
    "                  margin={\"t\":0,\"b\":0,\"l\":0, \"r\":0, \"pad\":0},\n",
    "                  showlegend=False)\n",
    "\n",
    "fig.show()"
   ],
   "metadata": {}
  },
  {
   "cell_type": "code",
   "execution_count": null,
   "source": [
    "ewr_unique_dest.shape"
   ],
   "outputs": [],
   "metadata": {}
  },
  {
   "cell_type": "code",
   "execution_count": null,
   "source": [
    "ewr_unique_dest.describe(include = 'all')"
   ],
   "outputs": [],
   "metadata": {}
  },
  {
   "cell_type": "code",
   "execution_count": null,
   "source": [
    "ewr_unique_dest['mean_dest_delay_color'] = ewr_unique_dest['mean_dep_delay_per_dest'] ** 2"
   ],
   "outputs": [],
   "metadata": {}
  },
  {
   "cell_type": "code",
   "execution_count": null,
   "source": [
    "ewr_unique_dest['mean_dest_delay_color'].round(0)"
   ],
   "outputs": [],
   "metadata": {}
  },
  {
   "cell_type": "code",
   "execution_count": null,
   "source": [
    "us_map = folium.Map(location=[40.6925, -74.1687], \n",
    "zoom_start = 7,\n",
    "tiles=\"cartodbpositron\")"
   ],
   "outputs": [],
   "metadata": {}
  },
  {
   "cell_type": "code",
   "execution_count": null,
   "source": [
    "ewr_unique_dest.isna().sum()"
   ],
   "outputs": [],
   "metadata": {}
  },
  {
   "cell_type": "code",
   "execution_count": null,
   "source": [
    "\n",
    "    test_map = folium.Map([22.5, 22.5], zoom_start=3)\n",
    "\n",
    "    color_line = folium.ColorLine(\n",
    "        [[0, 0], [0, 45], [45, 45], [45, 0], [0, 0]],\n",
    "        [0, 1, 2, 3],\n",
    "        colormap=['b', 'g', 'y', 'r'],\n",
    "        nb_steps=4,\n",
    "        weight=10,\n",
    "        opacity=1).add_to(test_map)"
   ],
   "outputs": [],
   "metadata": {}
  },
  {
   "cell_type": "code",
   "execution_count": null,
   "source": [
    "test_map = folium.Map(location=[51.5, -0.115],\n",
    "                      zoom_start=13,\n",
    "                      tiles='cartodbpositron')\n",
    "\n",
    "folium.ColorLine([(51.49, -0.10),\n",
    "                  (51.50, -0.105),\n",
    "                  (51.51, -0.103),\n",
    "                  (51.52, -0.11)],\n",
    "                 colors = [0,1,2],\n",
    "                 colormap = ['green', 'red'],\n",
    "                 weight = 10,\n",
    "                 opacity = 0.25).add_to(test_map)\n",
    "\n",
    "test_map"
   ],
   "outputs": [],
   "metadata": {}
  },
  {
   "cell_type": "code",
   "execution_count": null,
   "source": [
    "us_map = folium.Map(location=[40.6925, -74.1687], \n",
    "zoom_start = 7,\n",
    "tiles=\"cartodbpositron\")\n",
    "\n",
    "#_ refers to variable which is not needed.\n",
    "#iterrows returns index (stored in _) and row which we need\n",
    "\n",
    "for _, row in ewr_unique_dest.iterrows():\n",
    "\n",
    "    folium.CircleMarker([row['ori_lat'], row['ori_lon']],\n",
    "                        radius=5,\n",
    "                        fill_color=\"#3db7e4\", # divvy color\n",
    "                       ).add_to(us_map)\n",
    "\n",
    "    folium.CircleMarker([row['dest_lat'], row['dest_lon']],\n",
    "                        radius=5,\n",
    "                        fill_color=\"red\", # divvy color\n",
    "                       ).add_to(us_map)\n",
    "\n",
    "    folium.PolyLine([[row['ori_lat'], row['ori_lon']], \n",
    "                     [row['dest_lat'], row['dest_lon']]],\n",
    "                     color = 'red').add_to(us_map)"
   ],
   "outputs": [],
   "metadata": {}
  },
  {
   "cell_type": "markdown",
   "source": [
    ">>> dict_speed = {}\n",
    ">>> cities_all = df.index.to_list()\n",
    ">>> \n",
    ">>> for origin in df.index:\n",
    "...     dict_speed[origin] = {\n",
    "...         desti: np.random.uniform(3, 30) for desti in cities_all if origin != desti\n",
    "...     }\n",
    "...     cities_all.remove(origin)\n",
    "... \n",
    ">>> dict_speed\n",
    "{'Amsterdam': {'Utrecht': 11.17300608896625, 'Haarlem': 28.078139459927645},\n",
    " 'Utrecht': {'Haarlem': 17.07939077211872},\n",
    " 'Haarlem': {}}"
   ],
   "metadata": {}
  },
  {
   "cell_type": "code",
   "execution_count": null,
   "source": [
    "us_map"
   ],
   "outputs": [],
   "metadata": {}
  },
  {
   "cell_type": "code",
   "execution_count": null,
   "source": [
    "ewr_unique_dest.mean_dep_delay_per_dest.max()"
   ],
   "outputs": [],
   "metadata": {}
  },
  {
   "cell_type": "code",
   "execution_count": null,
   "source": [
    "ewr_unique_dest.mean_dep_delay_per_dest.min()"
   ],
   "outputs": [],
   "metadata": {}
  },
  {
   "cell_type": "code",
   "execution_count": null,
   "source": [
    "import plotly.graph_objects as go\n",
    "\n",
    "fig = go.Figure(go.Scattermapbox(\n",
    "    mode = \"markers+lines\",\n",
    "    lon = [10, 20, 30],\n",
    "    lat = [10, 20,30],\n",
    "    marker = {'size': 10}))\n",
    "\n",
    "fig.update_layout(mapbox_style='carto-positron')\n",
    "fig.update_layout(margin={\"r\": 0, \"t\": 0, \"l\": 0, \"b\": 0})\n",
    "fig.update_layout(title_text=\"percent_delay_all_months\")\n",
    "\n",
    "fig.show()"
   ],
   "outputs": [],
   "metadata": {}
  },
  {
   "cell_type": "code",
   "execution_count": null,
   "source": [
    "import plotly.express as px\n",
    "\n",
    "test_fig = px.line_mapbox(ewr_unique_dest,\n",
    "lat='ori_lat',\n",
    "lon='ori_lon',\n",
    "color='mean_dep_delay_per_dest',\n",
    "zoom=9,\n",
    "height=600,\n",
    "width=1300)\n",
    "\n",
    "test_fig.update_layout(mapbox_style='carto-positron')\n",
    "test_fig.update_layout(margin={\"r\": 0, \"t\": 0, \"l\": 0, \"b\": 0})\n",
    "test_fig.update_layout(title_text=\"percent_delay_all_months\")\n",
    "test_fig.show()"
   ],
   "outputs": [],
   "metadata": {}
  },
  {
   "cell_type": "code",
   "execution_count": null,
   "source": [
    "#https://plotly.com/python/lines-on-maps/\n",
    "import plotly.graph_objects as go\n",
    "import pandas as pd\n",
    "\n",
    "df_airports = pd.read_csv('https://raw.githubusercontent.com/plotly/datasets/master/2011_february_us_airport_traffic.csv')\n",
    "df_airports.head()\n",
    "\n",
    "df_flight_paths = pd.read_csv('https://raw.githubusercontent.com/plotly/datasets/master/2011_february_aa_flight_paths.csv')\n",
    "df_flight_paths.head()\n",
    "\n",
    "fig = go.Figure()\n",
    "\n",
    "fig.add_trace(go.Scattergeo(\n",
    "    locationmode = 'USA-states',\n",
    "    lon = df_airports['long'],\n",
    "    lat = df_airports['lat'],\n",
    "    hoverinfo = 'text',\n",
    "    text = df_airports['airport'],\n",
    "    mode = 'markers',\n",
    "    marker = dict(\n",
    "        size = 2,\n",
    "        color = 'rgb(255, 0, 0)',\n",
    "        line = dict(\n",
    "            width = 3,\n",
    "            color = 'rgba(68, 68, 68, 0)'\n",
    "        )\n",
    "    )))\n",
    "\n",
    "flight_paths = []\n",
    "for i in range(len(df_flight_paths)):\n",
    "    fig.add_trace(\n",
    "        go.Scattergeo(\n",
    "            locationmode = 'USA-states',\n",
    "            lon = [df_flight_paths['start_lon'][i], df_flight_paths['end_lon'][i]],\n",
    "            lat = [df_flight_paths['start_lat'][i], df_flight_paths['end_lat'][i]],\n",
    "            mode = 'lines',\n",
    "            line = dict(width = 1,color = 'red'),\n",
    "            opacity = float(df_flight_paths['cnt'][i]) / float(df_flight_paths['cnt'].max()),\n",
    "        )\n",
    "    )\n",
    "\n",
    "fig.update_layout(\n",
    "    title_text = 'Feb. 2011 American Airline flight paths<br>(Hover for airport names)',\n",
    "    showlegend = False,\n",
    "    geo = dict(\n",
    "        scope = 'north america',\n",
    "        projection_type = 'azimuthal equal area',\n",
    "        showland = True,\n",
    "        landcolor = 'rgb(243, 243, 243)',\n",
    "        countrycolor = 'rgb(204, 204, 204)',\n",
    "    ),\n",
    ")\n",
    "\n",
    "fig.show()"
   ],
   "outputs": [],
   "metadata": {}
  },
  {
   "cell_type": "code",
   "execution_count": null,
   "source": [
    "test_fig_2 = go.Figure()\n",
    "\n",
    "ewr_unique_dest['ori_lon'] = ewr_unique_dest['ori_lon'].astype(float)\n",
    "ewr_unique_dest['dest_lon'] = ewr_unique_dest['dest_lon'].astype(float)\n",
    "ewr_unique_dest['ori_lat'] = ewr_unique_dest['ori_lat'].astype(float)\n",
    "ewr_unique_dest['dest_lat'] = ewr_unique_dest['dest_lat'].astype(float)\n",
    "# ewr_unique_dest['mean_dest_delay_color'] = ewr_unique_dest['mean_dest_delay_color'].astype(str)\n",
    "\n",
    "\n",
    "for i, row in ewr_unique_dest.iterrows():\n",
    "    test_fig_2.add_trace(\n",
    "        go.Scattermapbox(\n",
    "            mode=\"lines+markers\",\n",
    "            lon = [row['ori_lon'], row['dest_lon']],\n",
    "            lat = [row['ori_lat'], row['dest_lat']]\n",
    "            #width = [row['mean_dep_delay_per_dest']]\n",
    "            )\n",
    "        )\n",
    "\n",
    "test_fig_2.update_layout(mapbox_style='carto-positron')\n",
    "test_fig_2.update_layout(margin={\"r\": 0, \"t\": 0, \"l\": 0, \"b\": 0})\n",
    "test_fig_2.update_layout(title_text=\"percent_delay_all_months\")\n",
    "test_fig_2.show()"
   ],
   "outputs": [],
   "metadata": {}
  },
  {
   "cell_type": "code",
   "execution_count": null,
   "source": [
    "ewr_unique_dest['ori_dest_lat'] = ewr_unique_dest['ori_lat'].round(4).astype(str) + ', ' + ewr_unique_dest['dest_lat'].round(4).astype(str)\n",
    "ewr_unique_dest['ori_dest_lon'] = ewr_unique_dest['ori_lon'].round(4).astype(str) + ', ' + ewr_unique_dest['dest_lon'].round(4).astype(str)"
   ],
   "outputs": [],
   "metadata": {}
  },
  {
   "cell_type": "code",
   "execution_count": null,
   "source": [
    "ewr_unique_dest['ori_dest_lat'] = ewr_unique_dest['ori_lat'].round(4).astype(str) + ', ' + ewr_unique_dest['dest_lat'].round(4).astype(str)\n",
    "ewr_unique_dest['ori_dest_lon'] = ewr_unique_dest['ori_lon'].round(4).astype(str) + ', ' + ewr_unique_dest['dest_lon'].round(4).astype(str)"
   ],
   "outputs": [],
   "metadata": {}
  },
  {
   "cell_type": "code",
   "execution_count": null,
   "source": [
    "ewr_unique_dest.head()"
   ],
   "outputs": [],
   "metadata": {}
  },
  {
   "cell_type": "code",
   "execution_count": null,
   "source": [
    "test_dataset = pd.DataFrame({\n",
    "    'lat':[l],\n",
    "    'lon':[],\n",
    "    'airport':['Newark Liberty International Airport', 'Newark Liberty International Airport', ]\n",
    "})"
   ],
   "outputs": [],
   "metadata": {}
  },
  {
   "cell_type": "code",
   "execution_count": null,
   "source": [
    "test_fig = \n",
    "\n",
    "for _, row in ewr_unique_dest.iterrows():\n",
    "\n",
    "    folium.CircleMarker([row['ori_lat'], row['ori_lon']],\n",
    "                        radius=5,\n",
    "                        fill_color=\"#3db7e4\", # divvy color\n",
    "                       ).add_to(us_map)\n",
    "px.line_mapbox(ewr_unique_dest,\n",
    "lat='ori_dest_lat',\n",
    "lon='ori_dest_lon',\n",
    "color='mean_dep_delay_per_dest',\n",
    "zoom=9,\n",
    "height=600,\n",
    "width=1300)\n",
    "\n",
    "test_fig.update_layout(mapbox_style='carto-positron')\n",
    "test_fig.update_layout(margin={\"r\": 0, \"t\": 0, \"l\": 0, \"b\": 0})\n",
    "test_fig.update_layout(title_text=\"percent_delay_all_months\")\n",
    "test_fig.show()"
   ],
   "outputs": [],
   "metadata": {}
  },
  {
   "cell_type": "code",
   "execution_count": null,
   "source": [
    "px.line_mapbox(ewr_unique_dest,\n",
    "lat='ori_dest_lat',\n",
    "lon='ori_dest_lon',\n",
    "color='mean_dep_delay_per_dest',\n",
    "zoom=9,\n",
    "height=600,\n",
    "width=1300)\n",
    "\n",
    "test_fig.update_layout(mapbox_style='carto-positron')\n",
    "test_fig.update_layout(margin={\"r\": 0, \"t\": 0, \"l\": 0, \"b\": 0})\n",
    "test_fig.update_layout(title_text=\"percent_delay_all_months\")\n",
    "test_fig.show()"
   ],
   "outputs": [],
   "metadata": {}
  },
  {
   "cell_type": "code",
   "execution_count": null,
   "source": [],
   "outputs": [],
   "metadata": {}
  }
 ],
 "metadata": {
  "interpreter": {
   "hash": "8fcf7b042396e7f29cf8b75c50092c82a9c77d9f44fea1920580c6a7733647c1"
  },
  "kernelspec": {
   "name": "python3",
   "display_name": "Python 3.7.11 64-bit ('python3-7_proj': conda)"
  },
  "language_info": {
   "codemirror_mode": {
    "name": "ipython",
    "version": 3
   },
   "file_extension": ".py",
   "mimetype": "text/x-python",
   "name": "python",
   "nbconvert_exporter": "python",
   "pygments_lexer": "ipython3",
   "version": "3.7.11"
  },
  "varInspector": {
   "cols": {
    "lenName": 16,
    "lenType": 16,
    "lenVar": 40
   },
   "kernels_config": {
    "python": {
     "delete_cmd_postfix": "",
     "delete_cmd_prefix": "del ",
     "library": "var_list.py",
     "varRefreshCmd": "print(var_dic_list())"
    },
    "r": {
     "delete_cmd_postfix": ") ",
     "delete_cmd_prefix": "rm(",
     "library": "var_list.r",
     "varRefreshCmd": "cat(var_dic_list()) "
    }
   },
   "types_to_exclude": [
    "module",
    "function",
    "builtin_function_or_method",
    "instance",
    "_Feature"
   ],
   "window_display": false
  }
 },
 "nbformat": 4,
 "nbformat_minor": 2
}